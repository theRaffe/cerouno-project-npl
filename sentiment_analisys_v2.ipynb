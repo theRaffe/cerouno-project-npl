{
 "cells": [
  {
   "cell_type": "code",
   "execution_count": 2,
   "metadata": {},
   "outputs": [],
   "source": [
    "import pandas as pd\n",
    "import re\n",
    "import numpy as np\n",
    "from nltk import word_tokenize\n",
    "from nltk.classify import NaiveBayesClassifier\n",
    "import nltk.classify.util\n",
    "from nltk.corpus import stopwords"
   ]
  },
  {
   "cell_type": "markdown",
   "metadata": {},
   "source": [
    "## Exploración y transformación de datos"
   ]
  },
  {
   "cell_type": "code",
   "execution_count": 3,
   "metadata": {},
   "outputs": [
    {
     "data": {
      "text/html": [
       "<div>\n",
       "<style scoped>\n",
       "    .dataframe tbody tr th:only-of-type {\n",
       "        vertical-align: middle;\n",
       "    }\n",
       "\n",
       "    .dataframe tbody tr th {\n",
       "        vertical-align: top;\n",
       "    }\n",
       "\n",
       "    .dataframe thead th {\n",
       "        text-align: right;\n",
       "    }\n",
       "</style>\n",
       "<table border=\"1\" class=\"dataframe\">\n",
       "  <thead>\n",
       "    <tr style=\"text-align: right;\">\n",
       "      <th></th>\n",
       "      <th>asin</th>\n",
       "      <th>brand</th>\n",
       "      <th>title</th>\n",
       "      <th>url</th>\n",
       "      <th>image</th>\n",
       "      <th>rating</th>\n",
       "      <th>reviewUrl</th>\n",
       "      <th>totalReviews</th>\n",
       "      <th>prices</th>\n",
       "    </tr>\n",
       "  </thead>\n",
       "  <tbody>\n",
       "    <tr>\n",
       "      <th>0</th>\n",
       "      <td>B0000SX2UC</td>\n",
       "      <td>Nokia</td>\n",
       "      <td>Dual-Band / Tri-Mode Sprint PCS Phone w/ Voice...</td>\n",
       "      <td>https://www.amazon.com/Dual-Band-Tri-Mode-Acti...</td>\n",
       "      <td>https://m.media-amazon.com/images/I/2143EBQ210...</td>\n",
       "      <td>3.0</td>\n",
       "      <td>https://www.amazon.com/product-reviews/B0000SX2UC</td>\n",
       "      <td>14</td>\n",
       "      <td>NaN</td>\n",
       "    </tr>\n",
       "    <tr>\n",
       "      <th>1</th>\n",
       "      <td>B0009N5L7K</td>\n",
       "      <td>Motorola</td>\n",
       "      <td>Motorola I265 phone</td>\n",
       "      <td>https://www.amazon.com/Motorola-i265-I265-phon...</td>\n",
       "      <td>https://m.media-amazon.com/images/I/419WBAVDAR...</td>\n",
       "      <td>2.9</td>\n",
       "      <td>https://www.amazon.com/product-reviews/B0009N5L7K</td>\n",
       "      <td>7</td>\n",
       "      <td>$49.95</td>\n",
       "    </tr>\n",
       "  </tbody>\n",
       "</table>\n",
       "</div>"
      ],
      "text/plain": [
       "         asin     brand                                              title  \\\n",
       "0  B0000SX2UC     Nokia  Dual-Band / Tri-Mode Sprint PCS Phone w/ Voice...   \n",
       "1  B0009N5L7K  Motorola                                Motorola I265 phone   \n",
       "\n",
       "                                                 url  \\\n",
       "0  https://www.amazon.com/Dual-Band-Tri-Mode-Acti...   \n",
       "1  https://www.amazon.com/Motorola-i265-I265-phon...   \n",
       "\n",
       "                                               image  rating  \\\n",
       "0  https://m.media-amazon.com/images/I/2143EBQ210...     3.0   \n",
       "1  https://m.media-amazon.com/images/I/419WBAVDAR...     2.9   \n",
       "\n",
       "                                           reviewUrl  totalReviews  prices  \n",
       "0  https://www.amazon.com/product-reviews/B0000SX2UC            14     NaN  \n",
       "1  https://www.amazon.com/product-reviews/B0009N5L7K             7  $49.95  "
      ]
     },
     "execution_count": 3,
     "metadata": {},
     "output_type": "execute_result"
    }
   ],
   "source": [
    "df_cell_phones = pd.read_csv('amazon-cell-phones-reviews/20190928-items.csv')\n",
    "df_cell_phones.head(2)"
   ]
  },
  {
   "cell_type": "code",
   "execution_count": 4,
   "metadata": {},
   "outputs": [
    {
     "data": {
      "text/html": [
       "<div>\n",
       "<style scoped>\n",
       "    .dataframe tbody tr th:only-of-type {\n",
       "        vertical-align: middle;\n",
       "    }\n",
       "\n",
       "    .dataframe tbody tr th {\n",
       "        vertical-align: top;\n",
       "    }\n",
       "\n",
       "    .dataframe thead th {\n",
       "        text-align: right;\n",
       "    }\n",
       "</style>\n",
       "<table border=\"1\" class=\"dataframe\">\n",
       "  <thead>\n",
       "    <tr style=\"text-align: right;\">\n",
       "      <th></th>\n",
       "      <th>asin</th>\n",
       "      <th>name</th>\n",
       "      <th>rating</th>\n",
       "      <th>date</th>\n",
       "      <th>verified</th>\n",
       "      <th>title</th>\n",
       "      <th>body</th>\n",
       "      <th>helpfulVotes</th>\n",
       "    </tr>\n",
       "  </thead>\n",
       "  <tbody>\n",
       "    <tr>\n",
       "      <th>0</th>\n",
       "      <td>B0000SX2UC</td>\n",
       "      <td>Janet</td>\n",
       "      <td>3</td>\n",
       "      <td>October 11, 2005</td>\n",
       "      <td>False</td>\n",
       "      <td>Def not best, but not worst</td>\n",
       "      <td>I had the Samsung A600 for awhile which is abs...</td>\n",
       "      <td>1.0</td>\n",
       "    </tr>\n",
       "    <tr>\n",
       "      <th>1</th>\n",
       "      <td>B0000SX2UC</td>\n",
       "      <td>Luke Wyatt</td>\n",
       "      <td>1</td>\n",
       "      <td>January 7, 2004</td>\n",
       "      <td>False</td>\n",
       "      <td>Text Messaging Doesn't Work</td>\n",
       "      <td>Due to a software issue between Nokia and Spri...</td>\n",
       "      <td>17.0</td>\n",
       "    </tr>\n",
       "  </tbody>\n",
       "</table>\n",
       "</div>"
      ],
      "text/plain": [
       "         asin        name  rating              date  verified  \\\n",
       "0  B0000SX2UC       Janet       3  October 11, 2005     False   \n",
       "1  B0000SX2UC  Luke Wyatt       1   January 7, 2004     False   \n",
       "\n",
       "                         title  \\\n",
       "0  Def not best, but not worst   \n",
       "1  Text Messaging Doesn't Work   \n",
       "\n",
       "                                                body  helpfulVotes  \n",
       "0  I had the Samsung A600 for awhile which is abs...           1.0  \n",
       "1  Due to a software issue between Nokia and Spri...          17.0  "
      ]
     },
     "execution_count": 4,
     "metadata": {},
     "output_type": "execute_result"
    }
   ],
   "source": [
    "df_reviews = pd.read_csv('amazon-cell-phones-reviews/20190928-reviews.csv')\n",
    "df_reviews.head(2)"
   ]
  },
  {
   "cell_type": "code",
   "execution_count": 5,
   "metadata": {},
   "outputs": [
    {
     "name": "stdout",
     "output_type": "stream",
     "text": [
      "(82815, 16)\n"
     ]
    },
    {
     "data": {
      "text/html": [
       "<div>\n",
       "<style scoped>\n",
       "    .dataframe tbody tr th:only-of-type {\n",
       "        vertical-align: middle;\n",
       "    }\n",
       "\n",
       "    .dataframe tbody tr th {\n",
       "        vertical-align: top;\n",
       "    }\n",
       "\n",
       "    .dataframe thead th {\n",
       "        text-align: right;\n",
       "    }\n",
       "</style>\n",
       "<table border=\"1\" class=\"dataframe\">\n",
       "  <thead>\n",
       "    <tr style=\"text-align: right;\">\n",
       "      <th></th>\n",
       "      <th>asin</th>\n",
       "      <th>name</th>\n",
       "      <th>rating_x</th>\n",
       "      <th>date</th>\n",
       "      <th>verified</th>\n",
       "      <th>title_x</th>\n",
       "      <th>body</th>\n",
       "      <th>helpfulVotes</th>\n",
       "      <th>brand</th>\n",
       "      <th>title_y</th>\n",
       "      <th>url</th>\n",
       "      <th>image</th>\n",
       "      <th>rating_y</th>\n",
       "      <th>reviewUrl</th>\n",
       "      <th>totalReviews</th>\n",
       "      <th>prices</th>\n",
       "    </tr>\n",
       "  </thead>\n",
       "  <tbody>\n",
       "    <tr>\n",
       "      <th>0</th>\n",
       "      <td>B0000SX2UC</td>\n",
       "      <td>Janet</td>\n",
       "      <td>3</td>\n",
       "      <td>October 11, 2005</td>\n",
       "      <td>False</td>\n",
       "      <td>Def not best, but not worst</td>\n",
       "      <td>I had the Samsung A600 for awhile which is abs...</td>\n",
       "      <td>1.0</td>\n",
       "      <td>Nokia</td>\n",
       "      <td>Dual-Band / Tri-Mode Sprint PCS Phone w/ Voice...</td>\n",
       "      <td>https://www.amazon.com/Dual-Band-Tri-Mode-Acti...</td>\n",
       "      <td>https://m.media-amazon.com/images/I/2143EBQ210...</td>\n",
       "      <td>3.0</td>\n",
       "      <td>https://www.amazon.com/product-reviews/B0000SX2UC</td>\n",
       "      <td>14</td>\n",
       "      <td>NaN</td>\n",
       "    </tr>\n",
       "    <tr>\n",
       "      <th>1</th>\n",
       "      <td>B0000SX2UC</td>\n",
       "      <td>Luke Wyatt</td>\n",
       "      <td>1</td>\n",
       "      <td>January 7, 2004</td>\n",
       "      <td>False</td>\n",
       "      <td>Text Messaging Doesn't Work</td>\n",
       "      <td>Due to a software issue between Nokia and Spri...</td>\n",
       "      <td>17.0</td>\n",
       "      <td>Nokia</td>\n",
       "      <td>Dual-Band / Tri-Mode Sprint PCS Phone w/ Voice...</td>\n",
       "      <td>https://www.amazon.com/Dual-Band-Tri-Mode-Acti...</td>\n",
       "      <td>https://m.media-amazon.com/images/I/2143EBQ210...</td>\n",
       "      <td>3.0</td>\n",
       "      <td>https://www.amazon.com/product-reviews/B0000SX2UC</td>\n",
       "      <td>14</td>\n",
       "      <td>NaN</td>\n",
       "    </tr>\n",
       "  </tbody>\n",
       "</table>\n",
       "</div>"
      ],
      "text/plain": [
       "         asin        name  rating_x              date  verified  \\\n",
       "0  B0000SX2UC       Janet         3  October 11, 2005     False   \n",
       "1  B0000SX2UC  Luke Wyatt         1   January 7, 2004     False   \n",
       "\n",
       "                       title_x  \\\n",
       "0  Def not best, but not worst   \n",
       "1  Text Messaging Doesn't Work   \n",
       "\n",
       "                                                body  helpfulVotes  brand  \\\n",
       "0  I had the Samsung A600 for awhile which is abs...           1.0  Nokia   \n",
       "1  Due to a software issue between Nokia and Spri...          17.0  Nokia   \n",
       "\n",
       "                                             title_y  \\\n",
       "0  Dual-Band / Tri-Mode Sprint PCS Phone w/ Voice...   \n",
       "1  Dual-Band / Tri-Mode Sprint PCS Phone w/ Voice...   \n",
       "\n",
       "                                                 url  \\\n",
       "0  https://www.amazon.com/Dual-Band-Tri-Mode-Acti...   \n",
       "1  https://www.amazon.com/Dual-Band-Tri-Mode-Acti...   \n",
       "\n",
       "                                               image  rating_y  \\\n",
       "0  https://m.media-amazon.com/images/I/2143EBQ210...       3.0   \n",
       "1  https://m.media-amazon.com/images/I/2143EBQ210...       3.0   \n",
       "\n",
       "                                           reviewUrl  totalReviews prices  \n",
       "0  https://www.amazon.com/product-reviews/B0000SX2UC            14    NaN  \n",
       "1  https://www.amazon.com/product-reviews/B0000SX2UC            14    NaN  "
      ]
     },
     "execution_count": 5,
     "metadata": {},
     "output_type": "execute_result"
    }
   ],
   "source": [
    "df_reviews_merge = pd.merge(df_reviews, df_cell_phones, how=\"left\", left_on=\"asin\", right_on=\"asin\")\n",
    "print(df_reviews_merge.shape)\n",
    "df_reviews_merge.head(2)"
   ]
  },
  {
   "cell_type": "code",
   "execution_count": 6,
   "metadata": {},
   "outputs": [],
   "source": [
    "## Agregar columna 'appreciation'\n",
    "df_reviews_merge.loc[df_reviews['rating'] <= 3, 'appreciation'] = 0\n",
    "df_reviews_merge.loc[df_reviews['rating'] > 3, 'appreciation'] = 1\n",
    "#df_reviews_merge.loc[df_reviews['rating'] == 3, 'appreciation'] = 0\n",
    "stop_words = set(stopwords.words('english'))\n"
   ]
  },
  {
   "cell_type": "markdown",
   "metadata": {},
   "source": [
    "## Obtener datos para el modelo(entrenamiento y test)"
   ]
  },
  {
   "cell_type": "code",
   "execution_count": 7,
   "metadata": {},
   "outputs": [],
   "source": [
    "#threshold_factor = 0.7\n",
    "#model_index = int(threshold_factor * len(df_reviews))\n",
    "df_model_data = df_reviews_merge\n",
    "\n",
    "threshold_factor = 0.8\n",
    "\n",
    "positive_reviews = df_model_data[df_model_data['appreciation'] == 1]\n",
    "negative_reviews = df_model_data[df_model_data['appreciation'] <= 0]\n",
    "#neutral_reviews = df_model_data[df_model_data['appreciation'] == 0]\n"
   ]
  },
  {
   "cell_type": "code",
   "execution_count": 8,
   "metadata": {},
   "outputs": [
    {
     "name": "stdout",
     "output_type": "stream",
     "text": [
      "55722\n",
      "27093\n"
     ]
    }
   ],
   "source": [
    "print(positive_reviews.shape[0])\n",
    "print(negative_reviews.shape[0])"
   ]
  },
  {
   "cell_type": "code",
   "execution_count": 9,
   "metadata": {},
   "outputs": [],
   "source": [
    "# definir funciones\n",
    "def get_list_words(reviews_str):\n",
    "    token = str(reviews_str)\n",
    "    return re.sub(\"[^\\w]\", \" \",  token).split()\n",
    "\n",
    "def extract_features(word_list):\n",
    "    return dict([(word, True) for word in word_list if word.lower() not in stop_words])\n"
   ]
  },
  {
   "cell_type": "code",
   "execution_count": 10,
   "metadata": {},
   "outputs": [],
   "source": [
    "positive_series = [get_list_words(review) for review in positive_reviews['body'].values]\n",
    "negative_series = [get_list_words(review) for review in negative_reviews['body'].values]\n",
    "#neutral_series = [get_list_words(review) for review in neutral_reviews['body'].values]\n",
    "\n",
    "positive_features = [(extract_features(a_review), 'Positive') for a_review in positive_series]\n",
    "negative_features = [(extract_features(a_review), 'Negative') for a_review in negative_series]\n",
    "#neutral_features = [(extract_features(a_review), 'Neutral') for a_review in neutral_series]"
   ]
  },
  {
   "cell_type": "markdown",
   "metadata": {},
   "source": [
    "### Separar dataset para entrenamiento y pruebas"
   ]
  },
  {
   "cell_type": "code",
   "execution_count": 11,
   "metadata": {},
   "outputs": [
    {
     "name": "stdout",
     "output_type": "stream",
     "text": [
      "\n",
      "Number of training datapoints: 66251\n",
      "Number of test datapoints: 16564\n"
     ]
    }
   ],
   "source": [
    "# Split the data into train and test (80/20)\n",
    "threshold_factor = 0.8\n",
    "threshold_positive = int(threshold_factor * len(positive_features))\n",
    "threshold_negative = int(threshold_factor * len(negative_features))\n",
    "#threshold_neutral = int(threshold_factor * len(neutral_features))\n",
    "\n",
    "features_train = positive_features[:threshold_positive] + negative_features[:threshold_negative]\n",
    "features_test = positive_features[threshold_positive:] + negative_features[threshold_negative:]\n",
    "\n",
    "print(\"\\nNumber of training datapoints:\", len(features_train))\n",
    "print(\"Number of test datapoints:\", len(features_test))"
   ]
  },
  {
   "cell_type": "markdown",
   "metadata": {},
   "source": [
    "### Entrenar con NaiveBayes"
   ]
  },
  {
   "cell_type": "code",
   "execution_count": 12,
   "metadata": {},
   "outputs": [
    {
     "name": "stdout",
     "output_type": "stream",
     "text": [
      "\n",
      "Accuracy of the classifier: 0.8347621347500603\n",
      "Most Informative Features\n",
      "                   Waste = True           Negati : Positi =    114.5 : 1.0\n",
      "               Excelente = True           Positi : Negati =     99.4 : 1.0\n",
      "                Horrible = True           Negati : Positi =     84.3 : 1.0\n",
      "                Terrible = True           Negati : Positi =     76.7 : 1.0\n",
      "                   Worst = True           Negati : Positi =     72.6 : 1.0\n",
      "                    Junk = True           Negati : Positi =     52.8 : 1.0\n",
      "                   Avoid = True           Negati : Positi =     48.7 : 1.0\n",
      "                    buen = True           Positi : Negati =     47.5 : 1.0\n",
      "                  Wasted = True           Negati : Positi =     47.3 : 1.0\n",
      "               excelente = True           Positi : Negati =     45.2 : 1.0\n",
      "              Constantly = True           Negati : Positi =     41.8 : 1.0\n",
      "                  Return = True           Negati : Positi =     39.9 : 1.0\n",
      "                 Perfect = True           Positi : Negati =     38.4 : 1.0\n",
      "                Excelent = True           Positi : Negati =     37.4 : 1.0\n",
      "                flickers = True           Negati : Positi =     35.0 : 1.0\n"
     ]
    }
   ],
   "source": [
    "# Train a Naive Bayes classifier\n",
    "classifier = NaiveBayesClassifier.train(features_train)\n",
    "print(\"\\nAccuracy of the classifier:\", nltk.classify.util.accuracy(classifier, features_test))\n",
    "classifier.show_most_informative_features(15)"
   ]
  },
  {
   "cell_type": "code",
   "execution_count": 32,
   "metadata": {},
   "outputs": [
    {
     "data": {
      "text/plain": [
       "{'Waste': 30,\n",
       " 'Excelente': 29,\n",
       " 'Horrible': 28,\n",
       " 'Terrible': 27,\n",
       " 'Worst': 26,\n",
       " 'Junk': 25,\n",
       " 'Avoid': 24,\n",
       " 'buen': 23,\n",
       " 'Wasted': 22,\n",
       " 'excelente': 21,\n",
       " 'Constantly': 20,\n",
       " 'Return': 19,\n",
       " 'Perfect': 18,\n",
       " 'Excelent': 17,\n",
       " 'flickers': 16,\n",
       " 'False': 15,\n",
       " 'STOLEN': 14,\n",
       " 'Returning': 13,\n",
       " 'BEWARE': 12,\n",
       " 'requesting': 11,\n",
       " 'Awesome': 10,\n",
       " 'Kept': 9,\n",
       " 'LOCKED': 8,\n",
       " 'paperweight': 7,\n",
       " 'Defective': 6,\n",
       " 'POS': 5,\n",
       " 'Returned': 4,\n",
       " 'motherboard': 3,\n",
       " 'cheated': 2,\n",
       " 'Broken': 1}"
      ]
     },
     "execution_count": 32,
     "metadata": {},
     "output_type": "execute_result"
    }
   ],
   "source": [
    "from wordcloud import WordCloud\n",
    "import matplotlib.pyplot as plt\n",
    "word_importance_dict = {}\n",
    "m_length = 30\n",
    "for item in classifier.most_informative_features()[:m_length]:\n",
    "    word_importance_dict[item[0]] = m_length\n",
    "    m_length = m_length - 1\n",
    "word_importance_dict\n"
   ]
  },
  {
   "cell_type": "code",
   "execution_count": 31,
   "metadata": {},
   "outputs": [
    {
     "data": {
      "image/png": "[encoded data removed]",
      "text/plain": [
       "<Figure size 720x432 with 1 Axes>"
      ]
     },
     "metadata": {
      "needs_background": "light"
     },
     "output_type": "display_data"
    }
   ],
   "source": [
    "wordcloud = WordCloud(width=5000, \n",
    "                      height=3000, \n",
    "                      max_words=200, \n",
    "                      colormap=\"Blues\",\n",
    "                      background_color=\"white\")\n",
    "title = 'Most informative words'\n",
    "wordcloud.generate_from_frequencies(word_importance_dict)\n",
    "plt.figure(figsize=(10, 6))\n",
    "plt.imshow(wordcloud)\n",
    "plt.axis(\"off\")\n",
    "plt.title(title)\n",
    "plt.show()"
   ]
  },
  {
   "cell_type": "markdown",
   "metadata": {},
   "source": [
    "### Entrenar con otros clasificadores"
   ]
  },
  {
   "cell_type": "code",
   "execution_count": 14,
   "metadata": {},
   "outputs": [],
   "source": [
    "from nltk.classify.scikitlearn import SklearnClassifier\n",
    "from sklearn.naive_bayes import MultinomialNB,BernoulliNB\n",
    "from sklearn.linear_model import LogisticRegression,SGDClassifier\n",
    "from sklearn.svm import SVC, LinearSVC, NuSVC\n"
   ]
  },
  {
   "cell_type": "code",
   "execution_count": 15,
   "metadata": {},
   "outputs": [
    {
     "name": "stdout",
     "output_type": "stream",
     "text": [
      "Original Naive Bayes Algo accuracy percent: 83.47621347500603\n",
      "Most Informative Features\n",
      "                   Waste = True           Negati : Positi =    114.5 : 1.0\n",
      "               Excelente = True           Positi : Negati =     99.4 : 1.0\n",
      "                Horrible = True           Negati : Positi =     84.3 : 1.0\n",
      "                Terrible = True           Negati : Positi =     76.7 : 1.0\n",
      "                   Worst = True           Negati : Positi =     72.6 : 1.0\n",
      "                    Junk = True           Negati : Positi =     52.8 : 1.0\n",
      "                   Avoid = True           Negati : Positi =     48.7 : 1.0\n",
      "                    buen = True           Positi : Negati =     47.5 : 1.0\n",
      "                  Wasted = True           Negati : Positi =     47.3 : 1.0\n",
      "               excelente = True           Positi : Negati =     45.2 : 1.0\n",
      "              Constantly = True           Negati : Positi =     41.8 : 1.0\n",
      "                  Return = True           Negati : Positi =     39.9 : 1.0\n",
      "                 Perfect = True           Positi : Negati =     38.4 : 1.0\n",
      "                Excelent = True           Positi : Negati =     37.4 : 1.0\n",
      "                flickers = True           Negati : Positi =     35.0 : 1.0\n",
      "MNB_classifier accuracy percent: 86.79063028254045\n",
      "BernoulliNB_classifier accuracy percent: 81.2967882154069\n"
     ]
    },
    {
     "name": "stderr",
     "output_type": "stream",
     "text": [
      "C:\\Users\\e-rbnunez\\AppData\\Local\\Continuum\\anaconda3\\envs\\cerounoDS\\lib\\site-packages\\sklearn\\linear_model\\logistic.py:947: ConvergenceWarning: lbfgs failed to converge. Increase the number of iterations.\n",
      "  \"of iterations.\", ConvergenceWarning)\n"
     ]
    },
    {
     "name": "stdout",
     "output_type": "stream",
     "text": [
      "LogisticRegression_classifier accuracy percent: 87.37623762376238\n",
      "SGDClassifier_classifier accuracy percent: 87.49698140545762\n"
     ]
    },
    {
     "name": "stderr",
     "output_type": "stream",
     "text": [
      "C:\\Users\\e-rbnunez\\AppData\\Local\\Continuum\\anaconda3\\envs\\cerounoDS\\lib\\site-packages\\sklearn\\svm\\base.py:929: ConvergenceWarning: Liblinear failed to converge, increase the number of iterations.\n",
      "  \"the number of iterations.\", ConvergenceWarning)\n"
     ]
    },
    {
     "name": "stdout",
     "output_type": "stream",
     "text": [
      "LinearSVC_classifier accuracy percent: 85.75827094904612\n"
     ]
    }
   ],
   "source": [
    "print(\"Original Naive Bayes Algo accuracy percent:\", (nltk.classify.accuracy(classifier, features_test))*100)\n",
    "classifier.show_most_informative_features(15)\n",
    "\n",
    "MNB_classifier = SklearnClassifier(MultinomialNB())\n",
    "MNB_classifier.train(features_train)\n",
    "print(\"MNB_classifier accuracy percent:\", (nltk.classify.accuracy(MNB_classifier, features_test))*100)\n",
    "\n",
    "BernoulliNB_classifier = SklearnClassifier(BernoulliNB())\n",
    "BernoulliNB_classifier.train(features_train)\n",
    "print(\"BernoulliNB_classifier accuracy percent:\", (nltk.classify.accuracy(BernoulliNB_classifier, features_test))*100)\n",
    "\n",
    "LogisticRegression_classifier = SklearnClassifier(LogisticRegression(solver='lbfgs', multi_class='auto'))\n",
    "LogisticRegression_classifier.train(features_train)\n",
    "print(\"LogisticRegression_classifier accuracy percent:\", (nltk.classify.accuracy(LogisticRegression_classifier, features_test))*100)\n",
    "\n",
    "SGDClassifier_classifier = SklearnClassifier(SGDClassifier())\n",
    "SGDClassifier_classifier.train(features_train)\n",
    "print(\"SGDClassifier_classifier accuracy percent:\", (nltk.classify.accuracy(SGDClassifier_classifier, features_test))*100)\n",
    "\n",
    "#SVC_classifier = SklearnClassifier(SVC())\n",
    "#SVC_classifier.train(features_train)\n",
    "#print(\"SVC_classifier accuracy percent:\", (nltk.classify.accuracy(SVC_classifier, features_test))*100)\n",
    "\n",
    "LinearSVC_classifier = SklearnClassifier(LinearSVC())\n",
    "LinearSVC_classifier.train(features_train)\n",
    "print(\"LinearSVC_classifier accuracy percent:\", (nltk.classify.accuracy(LinearSVC_classifier, features_test))*100)\n",
    "\n",
    "#NuSVC_classifier = SklearnClassifier(NuSVC(gamma='auto'))\n",
    "#NuSVC_classifier.train(features_train)\n",
    "#print(\"NuSVC_classifier accuracy percent:\", (nltk.classify.accuracy(NuSVC_classifier, features_test))*100)"
   ]
  },
  {
   "cell_type": "markdown",
   "metadata": {},
   "source": [
    "### Crear mi propio Clasificador que combina los anteriores"
   ]
  },
  {
   "cell_type": "code",
   "execution_count": 16,
   "metadata": {},
   "outputs": [],
   "source": [
    "from nltk.classify import ClassifierI\n",
    "from statistics import mode\n",
    "from collections import Counter\n",
    "\n",
    "class UnoceroClassifier(ClassifierI):\n",
    "    \n",
    "    def __init__(self, *classifiers):\n",
    "        self._classifiers = classifiers\n",
    "    \n",
    "    def classify(self, features):\n",
    "        votes = []\n",
    "        for a_classifier in self._classifiers:\n",
    "            a_vote = a_classifier.classify(features)\n",
    "            votes.append(a_vote)\n",
    "        m_counter = Counter(votes)\n",
    "        return m_counter.most_common(1)[0][0]\n",
    "    \n",
    "    def confidence(self, features):\n",
    "        votes = []\n",
    "        for a_classifier in self._classifiers:\n",
    "            a_vote = a_classifier.classify(features)\n",
    "            votes.append(a_vote)\n",
    "        m_counter = Counter(votes)\n",
    "        most_common = m_counter.most_common(1)[0][0]\n",
    "        choice_votes = votes.count(most_common)\n",
    "        return choice_votes / len(votes)\n",
    "    \n",
    "    def prob_classify(self, features, sample_target):\n",
    "        tag = self.classify(features)\n",
    "        a_confidence = self.confidence(features)\n",
    "        return a_confidence if tag == sample_target else 1 - a_confidence"
   ]
  },
  {
   "cell_type": "code",
   "execution_count": 17,
   "metadata": {},
   "outputs": [
    {
     "name": "stdout",
     "output_type": "stream",
     "text": [
      "unocero_classifier accuracy percent: 88.07655155759478\n"
     ]
    }
   ],
   "source": [
    "unocero_classifier = UnoceroClassifier(classifier,\n",
    "                                  LinearSVC_classifier,\n",
    "                                  SGDClassifier_classifier,\n",
    "                                  MNB_classifier,\n",
    "                                  BernoulliNB_classifier,\n",
    "                                  LogisticRegression_classifier)\n",
    "\n",
    "print(\"unocero_classifier accuracy percent:\", (nltk.classify.accuracy(unocero_classifier, features_test))*100)"
   ]
  },
  {
   "cell_type": "code",
   "execution_count": 18,
   "metadata": {},
   "outputs": [
    {
     "name": "stdout",
     "output_type": "stream",
     "text": [
      "Classification: Positive Confidence %: 66.66666666666666\n",
      "Classification: Positive Confidence %: 100.0\n"
     ]
    }
   ],
   "source": [
    "a_test = features_test[0][0]\n",
    "#print(f'Clasificar la reseña:{a_test}')\n",
    "a_pred_classify = unocero_classifier.classify(a_test)\n",
    "confidence = unocero_classifier.confidence(a_test)\n",
    "prob_dist = unocero_classifier.prob_classify(a_test, a_pred_classify)\n",
    "print(\"Classification:\", a_pred_classify, \"Confidence %:\", confidence*100,)\n",
    "\n",
    "a_test = features_test[25][0]\n",
    "#print(f'Clasificar la reseña:{a_test}')\n",
    "a_pred_classify = unocero_classifier.classify(a_test)\n",
    "confidence = unocero_classifier.confidence(a_test)\n",
    "prob_dist = unocero_classifier.prob_classify(a_test, a_pred_classify)\n",
    "\n",
    "print(\"Classification:\", a_pred_classify, \"Confidence %:\", confidence*100,)\n",
    "\n"
   ]
  },
  {
   "cell_type": "code",
   "execution_count": 33,
   "metadata": {},
   "outputs": [],
   "source": [
    "predicted = [unocero_classifier.classify(a_feature[0]) for a_feature in features_test]\n",
    "real = [a_feature[1] for a_feature in features_test]"
   ]
  },
  {
   "cell_type": "code",
   "execution_count": null,
   "metadata": {},
   "outputs": [],
   "source": [
    "naive_predicted = [classifier.classify(a_feature[0]) for a_feature in features_test]"
   ]
  },
  {
   "cell_type": "code",
   "execution_count": null,
   "metadata": {},
   "outputs": [],
   "source": [
    "#print(f'{np.shape(predicted)}  {np.shape(real)}')\n",
    "pd.crosstab(np.array(real), np.array(predicted), rownames=['Actual Rate'], colnames=['Predicted Rate'])"
   ]
  },
  {
   "cell_type": "code",
   "execution_count": null,
   "metadata": {},
   "outputs": [],
   "source": [
    "pd.crosstab(np.array(real), np.array(naive_predicted), rownames=['Actual Rate'], colnames=['Predicted Rate'])"
   ]
  },
  {
   "cell_type": "code",
   "execution_count": null,
   "metadata": {},
   "outputs": [],
   "source": [
    "real_classification = [1 if a_feature[1] == 'Positive' else 0 for a_feature in features_test]\n",
    "pred_classification = [classifier.prob_classify(a_feature[0]).prob(a_feature[1]) for a_feature in features_test]"
   ]
  },
  {
   "cell_type": "code",
   "execution_count": null,
   "metadata": {},
   "outputs": [],
   "source": [
    "from sklearn.metrics import roc_curve, roc_auc_score\n",
    "import matplotlib.pyplot as plt\n",
    "from scipy.stats import norm\n",
    "\n",
    "fpr, tpr, thresholds = roc_curve(np.array(real_classification), np.array(pred_classification), pos_label = 1)\n",
    "plt.figure(1)\n",
    "plt.plot([1, 0], [1, 0], 'k--')\n",
    "plt.plot(fpr, tpr, label='NB')\n",
    "plt.xlabel('False positive rate')\n",
    "plt.ylabel('True positive rate')\n",
    "plt.title('ROC curve')\n",
    "plt.legend(loc='best')\n",
    "plt.show()\n"
   ]
  },
  {
   "cell_type": "code",
   "execution_count": null,
   "metadata": {},
   "outputs": [],
   "source": [
    "real_classification = [1 if a_feature[1] == 'Positive' else 0 for a_feature in features_test]\n",
    "pred_classification = [classifier.prob_classify(a_feature[0]).prob('Positive') for a_feature in features_test]"
   ]
  },
  {
   "cell_type": "code",
   "execution_count": null,
   "metadata": {},
   "outputs": [],
   "source": [
    "fpr, tpr, thresholds = roc_curve(np.array(real_classification), np.array(pred_classification), pos_label = 1)\n",
    "plt.figure(1)\n",
    "plt.plot([1, 0], [1, 0], 'k--')\n",
    "plt.plot(fpr, tpr, label='NB')\n",
    "plt.xlabel('False positive rate')\n",
    "plt.ylabel('True positive rate')\n",
    "plt.title('ROC curve')\n",
    "plt.legend(loc='best')\n",
    "plt.show()"
   ]
  },
  {
   "cell_type": "markdown",
   "metadata": {},
   "source": [
    "## Analisis de sentimiento con unocero_classifier"
   ]
  },
  {
   "cell_type": "code",
   "execution_count": null,
   "metadata": {},
   "outputs": [],
   "source": [
    "import seaborn as sns\n",
    "sns.set(style=\"whitegrid\")\n",
    "\n",
    "df = pd.DataFrame({'reviews': predicted})\n",
    "sns.countplot(df['reviews'], palette = ['blue', 'red'])"
   ]
  },
  {
   "cell_type": "code",
   "execution_count": null,
   "metadata": {},
   "outputs": [],
   "source": [
    "\n",
    "df = pd.DataFrame({'reviews': real})\n",
    "sns.countplot(df['reviews'], palette = ['blue', 'red'])"
   ]
  }
 ],
 "metadata": {
  "kernelspec": {
   "display_name": "Python 3",
   "language": "python",
   "name": "python3"
  },
  "language_info": {
   "codemirror_mode": {
    "name": "ipython",
    "version": 3
   },
   "file_extension": ".py",
   "mimetype": "text/x-python",
   "name": "python",
   "nbconvert_exporter": "python",
   "pygments_lexer": "ipython3",
   "version": "3.7.5"
  }
 },
 "nbformat": 4,
 "nbformat_minor": 4
}
