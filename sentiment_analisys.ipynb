{
 "cells": [
  {
   "cell_type": "code",
   "execution_count": 72,
   "metadata": {},
   "outputs": [],
   "source": [
    "import pandas as pd\n",
    "import re\n",
    "from nltk import word_tokenize\n",
    "from nltk.classify import NaiveBayesClassifier\n",
    "import nltk.classify.util\n",
    "from nltk.corpus import stopwords"
   ]
  },
  {
   "cell_type": "code",
   "execution_count": 78,
   "metadata": {},
   "outputs": [],
   "source": [
    "df_reviews = pd.read_csv('amazon-cell-phones-reviews/20190928-reviews.csv')\n",
    "df_reviews.loc[df_reviews['rating'] <= 3, 'liked'] = False\n",
    "df_reviews.loc[df_reviews['rating'] > 3, 'liked'] = True\n",
    "stop_words = set(stopwords.words('english'))\n"
   ]
  },
  {
   "cell_type": "code",
   "execution_count": 11,
   "metadata": {},
   "outputs": [
    {
     "data": {
      "text/plain": [
       "(82815, 9)"
      ]
     },
     "execution_count": 11,
     "metadata": {},
     "output_type": "execute_result"
    }
   ],
   "source": [
    "df_reviews.shape"
   ]
  },
  {
   "cell_type": "code",
   "execution_count": 12,
   "metadata": {},
   "outputs": [
    {
     "name": "stdout",
     "output_type": "stream",
     "text": [
      "model_index:57970\n",
      "             asin              name  rating               date  verified  \\\n",
      "0      B0000SX2UC             Janet       3   October 11, 2005     False   \n",
      "1      B0000SX2UC        Luke Wyatt       1    January 7, 2004     False   \n",
      "2      B0000SX2UC            Brooke       5  December 30, 2003     False   \n",
      "3      B0000SX2UC     amy m. teague       3     March 18, 2004     False   \n",
      "4      B0000SX2UC     tristazbimmer       4    August 28, 2005     False   \n",
      "...           ...               ...     ...                ...       ...   \n",
      "57965  B077596D7L  Yuliya Moiseyeva       1     August 9, 2019      True   \n",
      "57966  B077596D7L         Gallagher       1  September 3, 2019      True   \n",
      "57967  B077596D7L         Trayshawn       4       July 8, 2019      True   \n",
      "57968  B077596D7L   Amazon Customer       5   January 28, 2019      True   \n",
      "57969  B077596D7L       yanal matar       4      June 18, 2019      True   \n",
      "\n",
      "                                              title  \\\n",
      "0                       Def not best, but not worst   \n",
      "1                       Text Messaging Doesn't Work   \n",
      "2                                   Love This Phone   \n",
      "3                           Love the Phone, BUT...!   \n",
      "4      Great phone service and options, lousy case!   \n",
      "...                                             ...   \n",
      "57965           Broken audio, no exchange option :(   \n",
      "57966                                Bad Experience   \n",
      "57967                                  Decent Phone   \n",
      "57968                        The iPhone X is great!   \n",
      "57969                  Would recommend if on budget   \n",
      "\n",
      "                                                    body  helpfulVotes  liked  \n",
      "0      I had the Samsung A600 for awhile which is abs...           1.0  False  \n",
      "1      Due to a software issue between Nokia and Spri...          17.0  False  \n",
      "2      This is a great, reliable phone. I also purcha...           5.0   True  \n",
      "3      I love the phone and all, because I really did...           1.0  False  \n",
      "4      The phone has been great for every purpose it ...           1.0   True  \n",
      "...                                                  ...           ...    ...  \n",
      "57965  The phone arrived looking beautiful and new, b...           NaN  False  \n",
      "57966  When I received the iPhone X from BuySPRY, eve...           NaN  False  \n",
      "57967  I like that it came nice and clean and even ha...           1.0   True  \n",
      "57968                  The battery life has no as long..           1.0   True  \n",
      "57969  The phone came with a preinstalled screen prot...           NaN   True  \n",
      "\n",
      "[57970 rows x 9 columns]\n"
     ]
    }
   ],
   "source": [
    "threshold_factor = 0.7\n",
    "model_index = int(threshold_factor * len(df_reviews))\n",
    "print(f'model_index:{model_index}')\n",
    "df_model_data = df_reviews.iloc[:model_index]"
   ]
  },
  {
   "cell_type": "code",
   "execution_count": 60,
   "metadata": {},
   "outputs": [],
   "source": [
    "threshold_factor = 0.8\n",
    "\n",
    "positive_reviews = df_model_data[df_model_data['liked'] == True]\n",
    "negative_reviews = df_model_data[df_model_data['liked'] == False]\n"
   ]
  },
  {
   "cell_type": "code",
   "execution_count": 101,
   "metadata": {},
   "outputs": [],
   "source": [
    "m_str = 'this is a sentence.and this other 12.90'\n",
    "re.sub(\"[^\\w]\", \" \",  m_str).split()\n",
    "def get_list_words(reviews_str):\n",
    "    token = str(reviews_str)\n",
    "    return re.sub(\"[^\\w]\", \" \",  token).split()\n",
    "\n",
    "def extract_features(word_list):\n",
    "    return dict([(word, True) for word in word_list if word.lower() not in stop_words])\n",
    "#if word not in stop_words"
   ]
  },
  {
   "cell_type": "code",
   "execution_count": 102,
   "metadata": {},
   "outputs": [],
   "source": [
    "positive_series = [get_list_words(review) for review in positive_reviews['body'].values]\n",
    "negative_series = [get_list_words(review) for review in negative_reviews['body'].values]"
   ]
  },
  {
   "cell_type": "code",
   "execution_count": 105,
   "metadata": {},
   "outputs": [],
   "source": [
    "positive_features = [(extract_features(a_review), 'Positive') for a_review in positive_series]\n",
    "negative_features = [(extract_features(a_review), 'Negative') for a_review in negative_series]"
   ]
  },
  {
   "cell_type": "code",
   "execution_count": 106,
   "metadata": {},
   "outputs": [
    {
     "name": "stdout",
     "output_type": "stream",
     "text": [
      "36984\n",
      "20986\n"
     ]
    }
   ],
   "source": [
    "print(len(positive_features))\n",
    "print(len(negative_features))"
   ]
  },
  {
   "cell_type": "code",
   "execution_count": 107,
   "metadata": {},
   "outputs": [],
   "source": [
    "# Split the data into train and test (80/20)\n",
    "threshold_factor = 0.8\n",
    "threshold_positive = int(threshold_factor * len(positive_features))\n",
    "threshold_negative = int(threshold_factor * len(negative_features))"
   ]
  },
  {
   "cell_type": "code",
   "execution_count": 108,
   "metadata": {},
   "outputs": [
    {
     "name": "stdout",
     "output_type": "stream",
     "text": [
      "\n",
      "Number of training datapoints: 46375\n",
      "Number of test datapoints: 11595\n"
     ]
    }
   ],
   "source": [
    "features_train = positive_features[:threshold_positive] + negative_features[:threshold_negative]\n",
    "features_test = positive_features[threshold_positive:] + negative_features[threshold_negative:]  \n",
    "print(\"\\nNumber of training datapoints:\", len(features_train))\n",
    "print(\"Number of test datapoints:\", len(features_test))"
   ]
  },
  {
   "cell_type": "code",
   "execution_count": null,
   "metadata": {},
   "outputs": [],
   "source": []
  },
  {
   "cell_type": "code",
   "execution_count": 109,
   "metadata": {},
   "outputs": [
    {
     "name": "stdout",
     "output_type": "stream",
     "text": [
      "\n",
      "Accuracy of the classifier: 0.8146614920224234\n"
     ]
    }
   ],
   "source": [
    "# Train a Naive Bayes classifier\n",
    "classifier = NaiveBayesClassifier.train(features_train)\n",
    "print(\"\\nAccuracy of the classifier:\", nltk.classify.util.accuracy(classifier, features_test))"
   ]
  },
  {
   "cell_type": "code",
   "execution_count": 110,
   "metadata": {},
   "outputs": [
    {
     "name": "stdout",
     "output_type": "stream",
     "text": [
      "Most Informative Features\n",
      "                Horrible = True           Negati : Positi =     88.7 : 1.0\n",
      "                   Waste = True           Negati : Positi =     74.6 : 1.0\n",
      "            Disappointed = True           Negati : Positi =     66.4 : 1.0\n",
      "                   Worst = True           Negati : Positi =     65.2 : 1.0\n",
      "               Excelente = True           Positi : Negati =     57.7 : 1.0\n",
      "               Returning = True           Negati : Positi =     55.8 : 1.0\n",
      "                Terrible = True           Negati : Positi =     51.1 : 1.0\n",
      "                  Return = True           Negati : Positi =     45.2 : 1.0\n",
      "                  LOCKED = True           Negati : Positi =     42.9 : 1.0\n",
      "                 Perfect = True           Positi : Negati =     35.9 : 1.0\n",
      "                   Avoid = True           Negati : Positi =     35.8 : 1.0\n",
      "                  BEWARE = True           Negati : Positi =     32.5 : 1.0\n",
      "             paperweight = True           Negati : Positi =     26.9 : 1.0\n",
      "               excelente = True           Positi : Negati =     25.5 : 1.0\n",
      "                   sirve = True           Negati : Positi =     25.3 : 1.0\n"
     ]
    }
   ],
   "source": [
    "classifier.show_most_informative_features(15)"
   ]
  },
  {
   "cell_type": "code",
   "execution_count": null,
   "metadata": {},
   "outputs": [],
   "source": []
  }
 ],
 "metadata": {
  "kernelspec": {
   "display_name": "Python 3",
   "language": "python",
   "name": "python3"
  },
  "language_info": {
   "codemirror_mode": {
    "name": "ipython",
    "version": 3
   },
   "file_extension": ".py",
   "mimetype": "text/x-python",
   "name": "python",
   "nbconvert_exporter": "python",
   "pygments_lexer": "ipython3",
   "version": "3.7.4"
  }
 },
 "nbformat": 4,
 "nbformat_minor": 4
}
